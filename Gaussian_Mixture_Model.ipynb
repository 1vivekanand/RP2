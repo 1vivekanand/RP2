{
  "nbformat": 4,
  "nbformat_minor": 0,
  "metadata": {
    "colab": {
      "provenance": []
    },
    "kernelspec": {
      "name": "python3",
      "display_name": "Python 3"
    },
    "language_info": {
      "name": "python"
    }
  },
  "cells": [
    {
      "cell_type": "code",
      "source": [
        "import pandas as pd\n",
        "import numpy as np\n",
        "from sklearn.mixture import GaussianMixture\n",
        "from sklearn.preprocessing import StandardScaler\n",
        "import matplotlib.pyplot as plt"
      ],
      "metadata": {
        "id": "vhoF0WgumInx"
      },
      "execution_count": null,
      "outputs": []
    },
    {
      "cell_type": "code",
      "source": [
        "df = pd.read_excel('data.xlsx')\n",
        "\n",
        "# Define the features\n",
        "features = [\n",
        "    'Hydrogen Weight Percent',\n",
        "    'Temperature',\n",
        "    'Pressure',\n",
        "    'HOF',\n",
        "    'mean Atomic Weight',\n",
        "    'mean Covalent Radius',\n",
        "    'mean Electronegativity'\n",
        "]\n",
        "\n",
        "# Extract the feature values from the DataFrame\n",
        "data = df[features].values"
      ],
      "metadata": {
        "id": "Y-AfgjbAmwLp"
      },
      "execution_count": null,
      "outputs": []
    },
    {
      "cell_type": "code",
      "source": [
        "# Standardize the features\n",
        "scaler = StandardScaler()\n",
        "data = scaler.fit_transform(data)\n",
        "\n",
        "# Define the GMM model\n",
        "n_components = 3  # Specify the number of components/clusters\n",
        "gmm = GaussianMixture(n_components=n_components, covariance_type='full')\n",
        "\n",
        "# Fit the model to the data\n",
        "gmm.fit(data)\n",
        "\n",
        "# Obtain the cluster labels\n",
        "labels = gmm.predict(data)\n",
        "\n",
        "# Find the cluster with the highest average Hydrogen weight percent\n",
        "unique_labels = np.unique(labels)\n",
        "max_hydrogen_cluster = None\n",
        "max_hydrogen_avg = -1\n",
        "\n",
        "for label in unique_labels:\n",
        "    hydrogen_avg = df.loc[labels == label, 'Hydrogen Weight Percent'].mean()\n",
        "    if hydrogen_avg > max_hydrogen_avg:\n",
        "        max_hydrogen_cluster = label\n",
        "        max_hydrogen_avg = hydrogen_avg\n"
      ],
      "metadata": {
        "id": "-JNjEZpBm0wB"
      },
      "execution_count": null,
      "outputs": []
    },
    {
      "cell_type": "code",
      "source": [
        "# Assign unique colors to each cluster label\n",
        "colors = ['red', 'blue', 'green', 'orange', 'purple', 'yellow', 'cyan', 'magenta']\n",
        "cluster_colors = [colors[label % len(colors)] for label in labels]\n",
        "\n",
        "# Plot the clusters\n",
        "plt.scatter(data[:, 0], data[:, 1], c=cluster_colors, cmap='viridis')\n",
        "plt.xlabel('Hydrogen Weight Percent (Wt %)')\n",
        "plt.ylabel('Temperature (°C)')\n",
        "plt.title('Gaussian Mixture Model Clustering')\n",
        "\n",
        "# Create a legend indicating the correspondence between colors and clusters\n",
        "unique_labels = sorted(unique_labels)\n",
        "legend_elements = [plt.Line2D([0], [0], marker='o', color='w', label='Cluster {}'.format(label),\n",
        "                              markerfacecolor=color, markersize=8) for label, color in zip(unique_labels, colors)]\n",
        "plt.legend(handles=legend_elements)\n",
        "\n",
        "# Print the cluster labels for each data point\n",
        "for i, label in enumerate(labels):\n",
        "    print(\"Data point {}: Cluster {}\".format(i, label))\n",
        "\n",
        "plt.show()"
      ],
      "metadata": {
        "colab": {
          "base_uri": "https://localhost:8080/",
          "height": 1000
        },
        "id": "LeWa1zc3m3fm",
        "outputId": "bec3ac34-71a6-4e4b-f41b-a61632b189bf"
      },
      "execution_count": null,
      "outputs": [
        {
          "output_type": "stream",
          "name": "stderr",
          "text": [
            "<ipython-input-30-693b8c1d8193>:6: UserWarning: No data for colormapping provided via 'c'. Parameters 'cmap' will be ignored\n",
            "  plt.scatter(data[:, 0], data[:, 1], c=cluster_colors, cmap='viridis')\n"
          ]
        },
        {
          "output_type": "stream",
          "name": "stdout",
          "text": [
            "Data point 0: Cluster 2\n",
            "Data point 1: Cluster 0\n",
            "Data point 2: Cluster 0\n",
            "Data point 3: Cluster 2\n",
            "Data point 4: Cluster 1\n",
            "Data point 5: Cluster 1\n",
            "Data point 6: Cluster 2\n",
            "Data point 7: Cluster 1\n",
            "Data point 8: Cluster 1\n",
            "Data point 9: Cluster 1\n",
            "Data point 10: Cluster 1\n",
            "Data point 11: Cluster 1\n",
            "Data point 12: Cluster 1\n",
            "Data point 13: Cluster 1\n",
            "Data point 14: Cluster 1\n",
            "Data point 15: Cluster 2\n",
            "Data point 16: Cluster 2\n",
            "Data point 17: Cluster 2\n",
            "Data point 18: Cluster 2\n",
            "Data point 19: Cluster 2\n",
            "Data point 20: Cluster 2\n",
            "Data point 21: Cluster 2\n",
            "Data point 22: Cluster 2\n",
            "Data point 23: Cluster 2\n",
            "Data point 24: Cluster 1\n",
            "Data point 25: Cluster 2\n",
            "Data point 26: Cluster 1\n",
            "Data point 27: Cluster 1\n",
            "Data point 28: Cluster 1\n",
            "Data point 29: Cluster 1\n",
            "Data point 30: Cluster 1\n",
            "Data point 31: Cluster 1\n",
            "Data point 32: Cluster 1\n",
            "Data point 33: Cluster 1\n",
            "Data point 34: Cluster 1\n",
            "Data point 35: Cluster 1\n",
            "Data point 36: Cluster 1\n",
            "Data point 37: Cluster 1\n",
            "Data point 38: Cluster 1\n",
            "Data point 39: Cluster 1\n",
            "Data point 40: Cluster 1\n",
            "Data point 41: Cluster 2\n",
            "Data point 42: Cluster 2\n",
            "Data point 43: Cluster 2\n",
            "Data point 44: Cluster 0\n",
            "Data point 45: Cluster 0\n",
            "Data point 46: Cluster 2\n",
            "Data point 47: Cluster 2\n",
            "Data point 48: Cluster 2\n",
            "Data point 49: Cluster 2\n",
            "Data point 50: Cluster 1\n",
            "Data point 51: Cluster 1\n",
            "Data point 52: Cluster 1\n",
            "Data point 53: Cluster 1\n",
            "Data point 54: Cluster 1\n",
            "Data point 55: Cluster 1\n",
            "Data point 56: Cluster 1\n",
            "Data point 57: Cluster 1\n",
            "Data point 58: Cluster 1\n",
            "Data point 59: Cluster 1\n",
            "Data point 60: Cluster 1\n"
          ]
        },
        {
          "output_type": "display_data",
          "data": {
            "text/plain": [
              "<Figure size 640x480 with 1 Axes>"
            ],
            "image/png": "[encoded data removed]"
          },
          "metadata": {}
        }
      ]
    },
    {
      "cell_type": "code",
      "source": [
        "# Print the cluster with the highest average Hydrogen weight percent\n",
        "if max_hydrogen_cluster is not None:\n",
        "    print(f\"Cluster with highest average Hydrogen weight percent: {max_hydrogen_cluster}\")\n",
        "else:\n",
        "    print(\"No clusters found.\")"
      ],
      "metadata": {
        "colab": {
          "base_uri": "https://localhost:8080/"
        },
        "id": "arcgv49Tm5WJ",
        "outputId": "b18a8754-1e55-4056-b616-0c2b6a9edb57"
      },
      "execution_count": null,
      "outputs": [
        {
          "output_type": "stream",
          "name": "stdout",
          "text": [
            "Cluster with highest average Hydrogen weight percent: 0\n"
          ]
        }
      ]
    },
    {
      "cell_type": "code",
      "source": [
        "from sklearn.mixture import GaussianMixture\n",
        "from sklearn.preprocessing import StandardScaler\n",
        "from sklearn import metrics\n",
        "# Performance Metrics\n",
        "# Silhouette Score\n",
        "silhouette = metrics.silhouette_score(data, labels)\n",
        "\n",
        "# Calinski-Harabasz Index\n",
        "ch_index = metrics.calinski_harabasz_score(data, labels)\n",
        "\n",
        "# Davies-Bouldin Index\n",
        "db_index = metrics.davies_bouldin_score(data, labels)\n",
        "\n",
        "# Print the performance metrics\n",
        "print(\"Silhouette Score:\", silhouette)\n",
        "print(\"Calinski-Harabasz Index:\", ch_index)\n",
        "print(\"Davies-Bouldin Index:\", db_index)"
      ],
      "metadata": {
        "colab": {
          "base_uri": "https://localhost:8080/"
        },
        "id": "y3WEj7apnU48",
        "outputId": "2f7a4cc4-ec4b-4010-b37b-59269d5c0dfe"
      },
      "execution_count": null,
      "outputs": [
        {
          "output_type": "stream",
          "name": "stdout",
          "text": [
            "Silhouette Score: 0.503303924721087\n",
            "Calinski-Harabasz Index: 46.32130192061218\n",
            "Davies-Bouldin Index: 0.6607943052108941\n"
          ]
        }
      ]
    },
    {
      "cell_type": "code",
      "source": [],
      "metadata": {
        "id": "0sN6hd8c9kep"
      },
      "execution_count": null,
      "outputs": []
    }
  ]
}